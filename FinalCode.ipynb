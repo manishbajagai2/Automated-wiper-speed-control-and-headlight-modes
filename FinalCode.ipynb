{
 "cells": [
  {
   "cell_type": "markdown",
   "metadata": {},
   "source": [
    "# Implementation Of Automatic Wiper Speed Control And Headlight Modes Control Systems Using Fuzzy Logic"
   ]
  },
  {
   "cell_type": "code",
   "execution_count": null,
   "metadata": {},
   "outputs": [],
   "source": [
    "import numpy as np\n",
    "import skfuzzy as fuzzy\n",
    "from skfuzzy import control as ctrl"
   ]
  },
  {
   "cell_type": "markdown",
   "metadata": {},
   "source": [
    "## A.) Automatic Wiper Speed"
   ]
  },
  {
   "cell_type": "code",
   "execution_count": null,
   "metadata": {},
   "outputs": [],
   "source": [
    "import numpy as np\n",
    "import matplotlib.pyplot as plt\n",
    "\n",
    "raining=ctrl.Antecedent(np.arange(0,101,1),'Raining')\n",
    "raining['poor']=fuzzy.trimf(raining.universe,[0,0,40])\n",
    "raining['average']=fuzzy.trapmf(raining.universe,[30,40,70,80])\n",
    "raining['good']=fuzzy.trimf(raining.universe,[80,90,100])\n",
    "\n",
    "rain_intensity=ctrl.Antecedent(np.arange(0,101,1),'Rain Intensity')\n",
    "rain_intensity['poor']=fuzzy.trimf(rain_intensity.universe,[0,0,40])\n",
    "rain_intensity['average']=fuzzy.trapmf(rain_intensity.universe,[40,50,70,80])\n",
    "rain_intensity['good']=fuzzy.trimf(rain_intensity.universe,[70,80,100])\n",
    "\n",
    "# raining.automf(3)\n",
    "# rain_intensity.automf(3)\n",
    "\n",
    "raining.view()\n",
    "rain_intensity.view()\n",
    "\n",
    "plt.show()"
   ]
  },
  {
   "cell_type": "code",
   "execution_count": null,
   "metadata": {},
   "outputs": [],
   "source": [
    "wiper_speed=ctrl.Consequent(np.arange(0,11,1),'Wiper_Speed')\n",
    "wiper_speed['poor']=fuzzy.trimf(wiper_speed.universe,[0,0,4])\n",
    "wiper_speed['average']=fuzzy.trapmf(wiper_speed.universe,[3,4,7,8])\n",
    "wiper_speed['good']=fuzzy.trimf(wiper_speed.universe,[7,8,10])\n",
    "# wiper_speed.automf(3)\n",
    "\n",
    "wiper_speed.view()\n",
    "\n",
    "plt.show()"
   ]
  },
  {
   "cell_type": "code",
   "execution_count": null,
   "metadata": {},
   "outputs": [],
   "source": [
    "rule1 = ctrl.Rule(raining['poor'] | rain_intensity['poor'], wiper_speed['poor'])\n",
    "rule2 = ctrl.Rule(raining['average'] | rain_intensity['average'], wiper_speed['average'])\n",
    "rule3 = ctrl.Rule(raining['good'] | rain_intensity['good'], wiper_speed['good'])\n",
    "\n",
    "rules=[rule1,rule2,rule3]\n",
    "tipping=ctrl.ControlSystem(rules)\n",
    "Tip=ctrl.ControlSystemSimulation(tipping)\n",
    "\n",
    "Tip.input['Raining'] = 50\n",
    "Tip.input['Rain Intensity'] = 80\n",
    "Tip.compute()\n",
    "\n",
    "print('The automated value of the voltage for the wiper speed is', Tip.output['Wiper_Speed'])\n",
    "\n",
    "wiper_speed.view(sim=Tip)"
   ]
  },
  {
   "cell_type": "markdown",
   "metadata": {},
   "source": [
    "##### The automated value of the voltage for the wiper speed is 6.2727272727272725"
   ]
  },
  {
   "cell_type": "markdown",
   "metadata": {},
   "source": [
    "## B.) Headlight Modes"
   ]
  },
  {
   "cell_type": "code",
   "execution_count": null,
   "metadata": {},
   "outputs": [],
   "source": [
    "lightintensity=ctrl.Antecedent(np.arange(0,12001,1),'Light Intensity')\n",
    "\n",
    "lightintensity['poor']=fuzzy.trimf(lightintensity.universe,[0,0,4800])\n",
    "lightintensity['average']=fuzzy.trapmf(lightintensity.universe,[3600,4800,8400,9600])\n",
    "lightintensity['good']=fuzzy.trimf(lightintensity.universe,[8400,9600,12000])\n",
    "\n",
    "\n",
    "\n",
    "# lightintensity.automf(3)\n",
    "lightintensity.view()"
   ]
  },
  {
   "cell_type": "code",
   "execution_count": null,
   "metadata": {},
   "outputs": [],
   "source": [
    "headlight=ctrl.Antecedent(np.arange(1,25,1),'Time in 24 hours format')\n",
    "\n",
    "headlight['poor']=fuzzy.trimf(headlight.universe,[1,3,6]) # morning\n",
    "headlight['average']=fuzzy.trapmf(headlight.universe,[5,6,17,18]) #day\n",
    "headlight['good']=fuzzy.trimf(headlight.universe,[16,20,24]) #evening\n",
    "\n",
    "# headlight.automf(3)\n",
    "headlight.view()"
   ]
  },
  {
   "cell_type": "code",
   "execution_count": null,
   "metadata": {},
   "outputs": [],
   "source": [
    "switch=ctrl.Consequent(np.arange(0,11,1),'Switch Mode')\n",
    "\n",
    "switch['poor']=fuzzy.trimf(switch.universe,[0,0,4])\n",
    "switch['average']=fuzzy.trapmf(switch.universe,[3,4,7,8])\n",
    "switch['good']=fuzzy.trimf(switch.universe,[7,8,10])\n",
    "\n",
    "# switch.automf(3)\n",
    "switch.view()\n",
    "plt.show()"
   ]
  },
  {
   "cell_type": "code",
   "execution_count": null,
   "metadata": {},
   "outputs": [],
   "source": [
    "from datetime import datetime\n",
    "now = datetime.now()\n",
    "currentHour = now.hour\n",
    "print('The time (in 24 hour format) is', currentHour)"
   ]
  },
  {
   "cell_type": "markdown",
   "metadata": {},
   "source": [
    "##### The time (in 24 hour format) is 10"
   ]
  },
  {
   "cell_type": "code",
   "execution_count": null,
   "metadata": {},
   "outputs": [],
   "source": [
    "rule1 = ctrl.Rule(lightintensity['poor'] | headlight['poor'], switch['poor'])\n",
    "rule2 = ctrl.Rule(lightintensity['average'] | headlight['average'], switch['average'])\n",
    "rule3 = ctrl.Rule(lightintensity['good'] | headlight['good'], switch['good'])\n",
    "\n",
    "rules=[rule1,rule2,rule3]\n",
    "tipping=ctrl.ControlSystem(rules)\n",
    "tip=ctrl.ControlSystemSimulation(tipping)\n",
    "\n",
    "tip.input['Light Intensity']= 3000\n",
    "tip.input['Time in 24 hours format']= 5\n",
    "tip.compute()\n",
    "\n",
    "print('The automated value of the switch mode is', tip.output['Switch Mode'])\n",
    "\n",
    "switch.view(sim=tip)"
   ]
  },
  {
   "cell_type": "markdown",
   "metadata": {},
   "source": [
    "##### The automated value of the switch mode is 1.6538461538461537"
   ]
  }
 ],
 "metadata": {
  "kernelspec": {
   "display_name": "Python 3.9.6 64-bit",
   "language": "python",
   "name": "python3"
  },
  "language_info": {
   "codemirror_mode": {
    "name": "ipython",
    "version": 3
   },
   "file_extension": ".py",
   "mimetype": "text/x-python",
   "name": "python",
   "nbconvert_exporter": "python",
   "pygments_lexer": "ipython3",
   "version": "3.9.6"
  },
  "orig_nbformat": 4,
  "vscode": {
   "interpreter": {
    "hash": "aee8b7b246df8f9039afb4144a1f6fd8d2ca17a180786b69acc140d282b71a49"
   }
  }
 },
 "nbformat": 4,
 "nbformat_minor": 2
}
